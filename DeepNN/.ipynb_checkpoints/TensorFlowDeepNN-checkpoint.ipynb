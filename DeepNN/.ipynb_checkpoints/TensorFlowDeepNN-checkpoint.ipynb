{
 "cells": [
  {
   "cell_type": "markdown",
   "metadata": {},
   "source": [
    "# TensorFlow Deep Neural Net"
   ]
  },
  {
   "cell_type": "markdown",
   "metadata": {},
   "source": [
    "Here I will be re-implementing a deep neural net that I put together in a previous notebook, this time using the TensorFlow low-level API to gain familiarity and perhaps achieve better performance (both speed and accuracy). "
   ]
  },
  {
   "cell_type": "code",
   "execution_count": 1,
   "metadata": {},
   "outputs": [],
   "source": [
    "import tensorflow as tf"
   ]
  },
  {
   "cell_type": "markdown",
   "metadata": {},
   "source": [
    "I will be using [this](https://www.tensorflow.org/get_started/mnist/pros) to help me get started.  I also used a script found [here](https://gist.githubusercontent.com/ischlag/41d15424e7989b936c1609b53edd1390/raw/5ed7aca47bcca30b3df1c3bfd0f027e6bcdb430c/mnist-to-jpg.py) to pre-process the MNIST data to more closely resemble something I could put together from a random dataset."
   ]
  },
  {
   "cell_type": "code",
   "execution_count": 2,
   "metadata": {},
   "outputs": [],
   "source": [
    "# Tensors for input layer and output layer\n",
    "x = tf.placeholder(tf.float32, shape=[None, 784])\n",
    "y_ = tf.placeholder(tf.float32, shape=[None, 10])"
   ]
  },
  {
   "cell_type": "code",
   "execution_count": 6,
   "metadata": {},
   "outputs": [],
   "source": [
    "BATCH_SIZE = 25"
   ]
  },
  {
   "cell_type": "code",
   "execution_count": 33,
   "metadata": {},
   "outputs": [],
   "source": [
    "from tensorflow.contrib.data import Dataset, Iterator\n",
    "\n",
    "dataset_path      = \"mnist/\"\n",
    "test_labels_file  = \"test-labels.csv\"\n",
    "train_labels_file = \"train-labels.csv\"\n",
    "\n",
    "def read_label_file(file):\n",
    "    f = open(file, \"r\")\n",
    "    filepaths = []\n",
    "    labels = []\n",
    "    for line in f:\n",
    "        filepath, label = line.split(\",\")\n",
    "        filepaths.append(filepath)\n",
    "        labels.append(int(label))\n",
    "    return filepaths, labels\n",
    "\n",
    "test_filepaths, test_labels = read_label_file(dataset_path + test_labels_file)\n",
    "train_filepaths, train_labels = read_label_file(dataset_path + train_labels_file)\n",
    "\n",
    "NUM_CLASSES = 10\n",
    "\n",
    "def input_parser(img_path, label):\n",
    "    # convert the label to one-hot encoding\n",
    "    one_hot = tf.one_hot(label, NUM_CLASSES)\n",
    "\n",
    "    # read the img from file\n",
    "    img_file = tf.read_file(img_path)\n",
    "    img_decoded = tf.image.decode_image(img_file)\n",
    "\n",
    "    return img_decoded, one_hot\n",
    "\n",
    "# Create Dataset objects\n",
    "train_data = Dataset.from_tensor_slices((train_filepaths, train_labels))\n",
    "test_data = Dataset.from_tensor_slices((test_filepaths, test_labels))\n",
    "\n",
    "train_data = train_data.map(input_parser, num_threads=8, output_buffer_size=100*BATCH_SIZE)\n",
    "test_data = test_data.map(input_parser, num_threads=8, output_buffer_size=100*BATCH_SIZE)\n",
    "\n",
    "# Create Iterator objects\n",
    "iterator = Iterator.from_structure(train_data.output_types,\n",
    "                                   train_data.output_shapes)\n",
    "next_element = iterator.get_next()\n",
    "\n",
    "# Create two initialization ops to switch between the datasets\n",
    "training_init_op = iterator.make_initializer(train_data)\n",
    "testing_init_op = iterator.make_initializer(test_data)"
   ]
  },
  {
   "cell_type": "markdown",
   "metadata": {},
   "source": [
    "So now I have two ops, each of which will allow me to iterate over the Datasets I created.  One corresponds to training data and the other to testing/evaluation data.  Below I print the shape of the first element of each to see that the processing has worked as expected."
   ]
  },
  {
   "cell_type": "code",
   "execution_count": 35,
   "metadata": {},
   "outputs": [
    {
     "name": "stdout",
     "output_type": "stream",
     "text": [
      "Tensor(\"Shape_29:0\", shape=(3,), dtype=int32), Tensor(\"Shape_30:0\", shape=(1,), dtype=int32)\n",
      "Tensor(\"Shape_31:0\", shape=(3,), dtype=int32), Tensor(\"Shape_32:0\", shape=(1,), dtype=int32)\n"
     ]
    }
   ],
   "source": [
    "with tf.Session() as sess:\n",
    "\n",
    "    sess.run(training_init_op)\n",
    "\n",
    "    try:\n",
    "        elem = sess.run(next_element)\n",
    "        print(str(tf.shape(elem[0])) + \", \" + str(tf.shape(elem[1])))\n",
    "    except tf.errors.OutOfRangeError:\n",
    "        print(\"End of training dataset.\")\n",
    "\n",
    "    sess.run(testing_init_op)\n",
    "\n",
    "    try:\n",
    "        elem = sess.run(next_element)\n",
    "        print(str(tf.shape(elem[0])) + \", \" + str(tf.shape(elem[1])))\n",
    "    except tf.errors.OutOfRangeError:\n",
    "        print(\"End of test dataset.\")"
   ]
  },
  {
   "cell_type": "markdown",
   "metadata": {},
   "source": [
    "The first element in each tuple is a 28x28x1 array, with the third dimension corresponding to color channels.  The second element in each tuple is an array of NUM_CLASSES integers and is one-hot."
   ]
  },
  {
   "cell_type": "code",
   "execution_count": 43,
   "metadata": {},
   "outputs": [],
   "source": [
    "HIDDEN_LAYERS = [30]\n",
    "WEIGHTS = []\n",
    "BIASES = []\n",
    "\n",
    "def weight_variable(shape):\n",
    "    initial = tf.truncated_normal(shape, stddev=0.1)\n",
    "    return tf.Variable(initial)\n",
    "\n",
    "def bias_variable(shape):\n",
    "    initial = tf.constant(0.1, shape=shape)\n",
    "    return tf.Variable(initial)\n",
    "\n",
    "for layer in HIDDEN_LAYERS:\n",
    "    WEIGHTS.append(weight_variable([layer]))\n",
    "    BIASES.append(bias_variable([layer]))"
   ]
  },
  {
   "cell_type": "code",
   "execution_count": null,
   "metadata": {},
   "outputs": [],
   "source": []
  }
 ],
 "metadata": {
  "kernelspec": {
   "display_name": "Python 3",
   "language": "python",
   "name": "python3"
  },
  "language_info": {
   "codemirror_mode": {
    "name": "ipython",
    "version": 3
   },
   "file_extension": ".py",
   "mimetype": "text/x-python",
   "name": "python",
   "nbconvert_exporter": "python",
   "pygments_lexer": "ipython3",
   "version": "3.6.2"
  }
 },
 "nbformat": 4,
 "nbformat_minor": 2
}
