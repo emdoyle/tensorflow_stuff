{
 "cells": [
  {
   "cell_type": "markdown",
   "metadata": {},
   "source": [
    "# Using TensorFlow to Predict Drug Usage"
   ]
  },
  {
   "cell_type": "markdown",
   "metadata": {},
   "source": [
    "### 1. Prep Data for TF"
   ]
  },
  {
   "cell_type": "code",
   "execution_count": null,
   "metadata": {},
   "outputs": [],
   "source": [
    "import tensorflow as tf\n",
    "from tensorflow.contrib.data import Dataset, Iterator\n",
    "\n",
    "with open(FILE_NAME) as f:\n",
    "    lines = f.readlines()\n",
    "\n",
    "features = []\n",
    "usages = []\n",
    "cases = []\n",
    "for line in lines:\n",
    "    # First elem in line is an id number\n",
    "    line = line.strip('\\n').split(',')[1:]\n",
    "    feature = line[:NUM_FEATURES]\n",
    "    usage = line[NUM_FEATURES:]\n",
    "    features.append(feature)\n",
    "    usages.append(usage)\n",
    "    cases.append((feature,usage))\n",
    "    \n",
    "def classify_usage(usage_code):\n",
    "    if usage_code in constants.USER:\n",
    "        return 1\n",
    "    else:\n",
    "        return 0\n",
    "\n",
    "def process_case(case):\n",
    "    x, y = case\n",
    "    return (list(map(float, x)), list(map(classify_usage, y)))\n",
    "cases = list(map(process_case, cases))"
   ]
  }
 ],
 "metadata": {
  "kernelspec": {
   "display_name": "Python 3",
   "language": "python",
   "name": "python3"
  },
  "language_info": {
   "codemirror_mode": {
    "name": "ipython",
    "version": 3
   },
   "file_extension": ".py",
   "mimetype": "text/x-python",
   "name": "python",
   "nbconvert_exporter": "python",
   "pygments_lexer": "ipython3",
   "version": "3.6.2"
  }
 },
 "nbformat": 4,
 "nbformat_minor": 2
}
