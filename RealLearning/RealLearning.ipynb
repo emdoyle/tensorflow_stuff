{
 "cells": [
  {
   "cell_type": "markdown",
   "metadata": {},
   "source": [
    "# Using TensorFlow to Predict Drug Usage"
   ]
  },
  {
   "cell_type": "markdown",
   "metadata": {},
   "source": [
    "### 1. DNNLinearCombinedClassifier"
   ]
  },
  {
   "cell_type": "code",
   "execution_count": 1,
   "metadata": {},
   "outputs": [
    {
     "name": "stdout",
     "output_type": "stream",
     "text": [
      "Accuracy: 0.81\n"
     ]
    }
   ],
   "source": [
    "import os\n",
    "import tensorflow as tf\n",
    "import numpy as np\n",
    "import pandas as pd\n",
    "import constants\n",
    "\n",
    "from tensorflow.contrib.learn.python.learn.datasets import base\n",
    "\n",
    "# Less Verbose Output\n",
    "os.environ['TF_CPP_MIN_LOG_LEVEL'] = '3'\n",
    "tf.logging.set_verbosity(tf.logging.ERROR)\n",
    "\n",
    "DATA_DIR = \"Dataset/\"\n",
    "DRUG_TRAINING = DATA_DIR + \"re_drug_consumption_data.csv\"\n",
    "DRUG_TEST = DATA_DIR + \"test_drug_consumption_data.csv\"\n",
    "DRUG_PREDICT = DATA_DIR + \"predict_drug_consumption_data.csv\"\n",
    "\n",
    "PREDICT_OUTPUT = DATA_DIR + \"predictions.csv\"\n",
    "\n",
    "# Bucketization for possible nonlinear relationship\n",
    "age = tf.feature_column.numeric_column(\"age\")\n",
    "age_buckets = tf.feature_column.bucketized_column(\n",
    "    age, boundaries=constants.AGE_BOUNDARIES)\n",
    "gender = tf.feature_column.numeric_column(\"gender\")\n",
    "gender_buckets = tf.feature_column.bucketized_column(\n",
    "    gender, boundaries=constants.GENDER_BOUNDARIES)\n",
    "country = tf.feature_column.numeric_column(\"country\")\n",
    "country_buckets = tf.feature_column.bucketized_column(\n",
    "    country, boundaries=constants.COUNTRY_BOUNDARIES)\n",
    "ethnicity = tf.feature_column.numeric_column(\"ethnicity\")\n",
    "ethnicity_buckets = tf.feature_column.bucketized_column(\n",
    "    ethnicity, boundaries=constants.ETHNICITY_BOUNDARIES)\n",
    "education = tf.feature_column.numeric_column(\"education\")\n",
    "education_buckets = tf.feature_column.bucketized_column(\n",
    "    education, boundaries=constants.EDUCATION_BOUNDARIES)\n",
    "\n",
    "# Could bucketize but guessing these are close to linear\n",
    "nscore = tf.feature_column.numeric_column(\"nscore\")\n",
    "escore = tf.feature_column.numeric_column(\"escore\")\n",
    "oscore = tf.feature_column.numeric_column(\"oscore\")\n",
    "ascore = tf.feature_column.numeric_column(\"ascore\")\n",
    "cscore = tf.feature_column.numeric_column(\"cscore\")\n",
    "impulsive = tf.feature_column.numeric_column(\"impulsive\")\n",
    "ss = tf.feature_column.numeric_column(\"ss\")\n",
    "\n",
    "nscore_ascore = tf.feature_column.crossed_column(\n",
    "    [\"nscore\", \"ascore\"], hash_bucket_size=500)\n",
    "nscore_cscore = tf.feature_column.crossed_column(\n",
    "    [\"nscore\", \"cscore\"], hash_bucket_size=500)\n",
    "ascore_cscore = tf.feature_column.crossed_column(\n",
    "    [\"ascore\", \"cscore\"], hash_bucket_size=500)\n",
    "nscore_ascore_cscore = tf.feature_column.crossed_column(\n",
    "    [\"nscore\", \"ascore\", \"cscore\"], hash_bucket_size=500)\n",
    "\n",
    "base_columns = [\n",
    "    age_buckets, gender_buckets, country_buckets, ethnicity_buckets,\n",
    "    education_buckets, \n",
    "    # nscore, escore, oscore, ascore, cscore, impulsive,\n",
    "    # ss\n",
    "]\n",
    "\n",
    "crossed_columns = [\n",
    "    \n",
    "    # nscore_ascore, nscore_cscore, ascore_cscore,\n",
    "    # nscore_ascore_cscore\n",
    "]\n",
    "\n",
    "feature_columns = base_columns + crossed_columns\n",
    "\n",
    "classifier = tf.estimator.DNNLinearCombinedClassifier(\n",
    "    model_dir=constants.MODEL_DIR,\n",
    "    n_classes=2,\n",
    "    linear_feature_columns=crossed_columns,\n",
    "    dnn_feature_columns=base_columns,\n",
    "    dnn_hidden_units=[100, 50, 10],\n",
    "    dnn_optimizer=tf.train.ProximalAdagradOptimizer(\n",
    "        learning_rate=0.1,\n",
    "        l1_regularization_strength=0.002,\n",
    "        l2_regularization_strength=0.005))\n",
    "\n",
    "def input_fn(data_file, num_epochs, shuffle):\n",
    "    dataset = pd.read_csv(\n",
    "        tf.gfile.Open(data_file),\n",
    "        header=0,\n",
    "        usecols=constants.FEATURE_COLUMNS + constants.TARGET,\n",
    "        skipinitialspace=True,\n",
    "        engine=\"python\")\n",
    "    # Drop NaN entries\n",
    "    dataset.dropna(how=\"any\", axis=0)\n",
    "\n",
    "    # Init empty dataframe, add column for each of targets\n",
    "    labels = pd.DataFrame(columns=constants.TARGET)\n",
    "    \n",
    "    # This assigns a different number to each usage category\n",
    "    # labels[constants.TARGET] = dataset[constants.TARGET].apply(lambda x: constants.MAPPED_CODES[x]).astype(int)\n",
    "\n",
    "    # This classifies usage as binary (USER/NON-USER) to make prediction easier\n",
    "    labels[\"alcohol\"] = dataset[\"alcohol\"].apply(lambda x: x in constants.USER).astype(int)\n",
    "\n",
    "    return tf.estimator.inputs.pandas_input_fn(\n",
    "        x=dataset,\n",
    "        y=labels,\n",
    "        batch_size=100,\n",
    "        num_epochs=num_epochs,\n",
    "        shuffle=shuffle,\n",
    "        num_threads=1)\n",
    "\n",
    "classifier.train(input_fn=input_fn(DRUG_TRAINING, num_epochs=None, shuffle=True),\n",
    "    steps=60000)\n",
    "\n",
    "results = classifier.evaluate(input_fn=input_fn(DRUG_TEST, num_epochs=1,\n",
    "    shuffle=False), steps=None)\n",
    "\n",
    "# Only printing accuracy for now\n",
    "# for key in sorted(results):\n",
    "#   print(\"%s: %s\" % (key, results[key]))\n",
    "print(\"Accuracy: %s\" % results['accuracy'])\n",
    "\n",
    "predictions = classifier.predict(input_fn=input_fn(DRUG_PREDICT, num_epochs=1,\n",
    "    shuffle=False))\n",
    "predict_writer = open(PREDICT_OUTPUT, \"w\")\n",
    "predict_writer.write(\"Fake header\\n\")\n",
    "for prediction in list(predictions):\n",
    "    curr_line = \"\"\n",
    "    for class_id in prediction['class_ids']:\n",
    "        curr_line += (str(class_id) + ',')\n",
    "    predict_writer.write(curr_line[:-1] + '\\n')\n",
    "\n",
    "predict_writer.close()"
   ]
  },
  {
   "cell_type": "code",
   "execution_count": 3,
   "metadata": {},
   "outputs": [
    {
     "name": "stdout",
     "output_type": "stream",
     "text": [
      "{'accuracy': 0.81, 'accuracy_baseline': 0.82666665, 'auc': 0.47937346, 'auc_precision_recall': 0.83383834, 'average_loss': 0.81419468, 'label/mean': 0.82666665, 'loss': 81.419472, 'prediction/mean': 0.84004128, 'global_step': 60001}\n"
     ]
    },
    {
     "ename": "KeyError",
     "evalue": "'specificity'",
     "output_type": "error",
     "traceback": [
      "\u001b[0;31m---------------------------------------------------------------------------\u001b[0m",
      "\u001b[0;31mKeyError\u001b[0m                                  Traceback (most recent call last)",
      "\u001b[0;32m<ipython-input-3-fb57ebf6820b>\u001b[0m in \u001b[0;36m<module>\u001b[0;34m()\u001b[0m\n\u001b[1;32m      1\u001b[0m \u001b[0mprint\u001b[0m\u001b[0;34m(\u001b[0m\u001b[0mresults\u001b[0m\u001b[0;34m)\u001b[0m\u001b[0;34m\u001b[0m\u001b[0m\n\u001b[0;32m----> 2\u001b[0;31m \u001b[0mprint\u001b[0m\u001b[0;34m(\u001b[0m\u001b[0;34m\"Specificity: %s\"\u001b[0m \u001b[0;34m%\u001b[0m \u001b[0mresults\u001b[0m\u001b[0;34m[\u001b[0m\u001b[0;34m'specificity'\u001b[0m\u001b[0;34m]\u001b[0m\u001b[0;34m)\u001b[0m\u001b[0;34m\u001b[0m\u001b[0m\n\u001b[0m\u001b[1;32m      3\u001b[0m \u001b[0mprint\u001b[0m\u001b[0;34m(\u001b[0m\u001b[0;34m\"Sensitivity: %s\"\u001b[0m \u001b[0;34m%\u001b[0m \u001b[0mresults\u001b[0m\u001b[0;34m[\u001b[0m\u001b[0;34m'sensitivity'\u001b[0m\u001b[0;34m]\u001b[0m\u001b[0;34m)\u001b[0m\u001b[0;34m\u001b[0m\u001b[0m\n",
      "\u001b[0;31mKeyError\u001b[0m: 'specificity'"
     ]
    }
   ],
   "source": [
    "print(results)\n",
    "print(\"Specificity: %s\" % results['specificity'])\n",
    "print(\"Sensitivity: %s\" % results['sensitivity'])"
   ]
  },
  {
   "cell_type": "code",
   "execution_count": null,
   "metadata": {},
   "outputs": [],
   "source": []
  }
 ],
 "metadata": {
  "kernelspec": {
   "display_name": "Python 3",
   "language": "python",
   "name": "python3"
  },
  "language_info": {
   "codemirror_mode": {
    "name": "ipython",
    "version": 3
   },
   "file_extension": ".py",
   "mimetype": "text/x-python",
   "name": "python",
   "nbconvert_exporter": "python",
   "pygments_lexer": "ipython3",
   "version": "3.6.2"
  }
 },
 "nbformat": 4,
 "nbformat_minor": 2
}
